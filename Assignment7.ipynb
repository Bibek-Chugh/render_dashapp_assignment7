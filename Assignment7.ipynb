{
 "cells": [
  {
   "cell_type": "code",
   "execution_count": 1,
   "metadata": {},
   "outputs": [],
   "source": [
    "import dash\n",
    "from dash import dcc, html, Input, Output\n",
    "import numpy as np\n",
    "import pandas as pd\n",
    "import plotly.express as px\n",
    "import pandas as pd"
   ]
  },
  {
   "cell_type": "code",
   "execution_count": 4,
   "metadata": {},
   "outputs": [
    {
     "data": {
      "text/html": [
       "\n",
       "        <iframe\n",
       "            width=\"100%\"\n",
       "            height=\"650\"\n",
       "            src=\"http://127.0.0.1:8050/\"\n",
       "            frameborder=\"0\"\n",
       "            allowfullscreen\n",
       "            \n",
       "        ></iframe>\n",
       "        "
      ],
      "text/plain": [
       "<IPython.lib.display.IFrame at 0x24d844feb50>"
      ]
     },
     "metadata": {},
     "output_type": "display_data"
    }
   ],
   "source": [
    "up_winners = {\n",
    "    \"Winners\": [\n",
    "        \"Uruguay\", \"Italy\", \"Italy\", \"Uruguay\", \"West Germany\", \"Brazil\", \"Brazil\", \"England\", \"Brazil\", \"West Germany\",\n",
    "        \"Argentina\", \"Italy\", \"Argentina\", \"West Germany\", \"Brazil\", \"France\", \"Brazil\", \"Italy\", \"Spain\", \"Germany\", \"France\", \"Argentina\"\n",
    "    ],\n",
    "    \"Years\": [\n",
    "        [1930], [1934, 1938], [1934, 1938], [1950], [1954, 1974, 1990],\n",
    "        [1958, 1962, 1970, 1994, 2002], [1958, 1962, 1970, 1994, 2002], [1966],\n",
    "        [1958, 1962, 1970, 1994, 2002], [1954, 1974, 1990],\n",
    "        [1978, 1986, 2022], [1934, 1938, 1982, 2006], [1978, 1986, 2022], [1954, 1974, 1990],\n",
    "        [1958, 1962, 1970, 1994, 2002], [1998, 2018], [1958, 1962, 1970, 1994, 2002],\n",
    "        [1934, 1938, 1982, 2006], [2010], [2014], [1998, 2018], [1978, 1986, 2022]\n",
    "    ],\n",
    "    \"runner_ups\": [\n",
    "        \"Argentina\", \"Czechoslovakia\", \"Hungary\", \"Brazil\", \"Hungary\", \"Sweden\", \"Czechoslovakia\", \"West Germany\", \"Italy\", \"Netherlands\",\n",
    "        \"Netherlands\", \"West Germany\", \"West Germany\", \"Argentina\", \"Italy\", \"Brazil\", \"Germany\", \"France\", \"Netherlands\", \"Argentina\", \"Croatia\", \"France\"\n",
    "    ]\n",
    "}\n",
    "\n",
    "# Create DataFrame\n",
    "df = pd.DataFrame(cup_winners)\n",
    "\n",
    "# Combine all the years into a single string for each country\n",
    "df['Years_combined'] = df['Years'].apply(lambda x: ', '.join(map(str, x)))\n",
    "\n",
    "# Now we can create the choropleth map\n",
    "fig = px.choropleth(\n",
    "    df,\n",
    "    locations=\"Winners\",\n",
    "    locationmode=\"country names\",\n",
    "    color=\"Winners\",\n",
    "    hover_name=\"Winners\",\n",
    "    hover_data={\"Years_combined\": True, \"runner_ups\": True},  # Show combined years and runner-ups in hover\n",
    "    color_continuous_scale=\"Viridis\",\n",
    "    scope=\"world\",\n",
    "    title=\"World Cup Winners\"\n",
    ")\n",
    "\n",
    "# Initialize Dash app\n",
    "app = dash.Dash()\n",
    "\n",
    "# App layout\n",
    "app.layout = html.Div([\n",
    "    html.H1(\"FIFA World Cup Winners\"),\n",
    "    dcc.Graph(figure=fig)\n",
    "])\n",
    "\n",
    "\n",
    "app.run(debug=True)"
   ]
  }
 ],
 "metadata": {
  "kernelspec": {
   "display_name": "Python 3",
   "language": "python",
   "name": "python3"
  },
  "language_info": {
   "codemirror_mode": {
    "name": "ipython",
    "version": 3
   },
   "file_extension": ".py",
   "mimetype": "text/x-python",
   "name": "python",
   "nbconvert_exporter": "python",
   "pygments_lexer": "ipython3",
   "version": "3.11.5"
  }
 },
 "nbformat": 4,
 "nbformat_minor": 2
}
